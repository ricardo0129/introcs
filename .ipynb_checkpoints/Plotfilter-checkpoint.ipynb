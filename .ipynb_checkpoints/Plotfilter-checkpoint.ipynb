{
 "cells": [
  {
   "cell_type": "code",
   "execution_count": null,
   "id": "50787869",
   "metadata": {},
   "outputs": [],
   "source": [
    "import stdio\n",
    "import stddraw\n",
    "\n",
    "# Read x and y scales from standard input, and configure standard\n",
    "# draw accordingly. Then read points from standard input until\n",
    "# end-of-file, and plot them on standard draw.\n",
    "def plotmap(f):\n",
    "    stdio.setFile(f)\n",
    "    \n",
    "    x0 = stdio.readFloat()\n",
    "    y0 = stdio.readFloat()\n",
    "    x1 = stdio.readFloat()\n",
    "    y1 = stdio.readFloat()\n",
    "\n",
    "    stddraw.setXscale(x0, x1)\n",
    "    stddraw.setYscale(y0, y1)\n",
    "\n",
    "    # Read and plot the points.\n",
    "    stddraw.setPenRadius(0.0)\n",
    "    while not stdio.isEmpty():\n",
    "        x = stdio.readFloat()\n",
    "        y = stdio.readFloat()\n",
    "        stddraw.point(x, y)\n",
    "\n",
    "    stddraw.show()\n"
   ]
  },
  {
   "cell_type": "code",
   "execution_count": null,
   "id": "e13f4e54",
   "metadata": {},
   "outputs": [],
   "source": [
    "plotmap(\"maps/usa.txt\")"
   ]
  },
  {
   "cell_type": "code",
   "execution_count": null,
   "id": "7adbcdc9",
   "metadata": {},
   "outputs": [],
   "source": []
  }
 ],
 "metadata": {
  "kernelspec": {
   "display_name": "Python 3 (ipykernel)",
   "language": "python",
   "name": "python3"
  },
  "language_info": {
   "codemirror_mode": {
    "name": "ipython",
    "version": 3
   },
   "file_extension": ".py",
   "mimetype": "text/x-python",
   "name": "python",
   "nbconvert_exporter": "python",
   "pygments_lexer": "ipython3",
   "version": "3.9.13"
  }
 },
 "nbformat": 4,
 "nbformat_minor": 5
}
