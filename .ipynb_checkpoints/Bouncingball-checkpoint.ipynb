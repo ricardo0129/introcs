{
 "cells": [
  {
   "cell_type": "code",
   "execution_count": null,
   "id": "36c131e0",
   "metadata": {},
   "outputs": [],
   "source": [
    "import stddraw\n",
    "\n",
    "# Draw a bouncing ball to standard draw.\n",
    "\n",
    "def bouncingball():\n",
    "    RADIUS = .05\n",
    "    DT = 20.0\n",
    "\n",
    "    stddraw.setXscale(-1.0, 1.0)\n",
    "    stddraw.setYscale(-1.0, 1.0)\n",
    "\n",
    "    rx = .480\n",
    "    ry = .860\n",
    "    vx = .015\n",
    "    vy = .023\n",
    "\n",
    "    while True:\n",
    "        # Update ball position and draw it there.\n",
    "        if abs(rx + vx) + RADIUS > 1.0:\n",
    "            vx = -vx\n",
    "        if abs(ry + vy) + RADIUS > 1.0:\n",
    "            vy = -vy\n",
    "        rx = rx + vx\n",
    "        ry = ry + vy\n",
    "\n",
    "        stddraw.clear(stddraw.GRAY)\n",
    "        stddraw.filledCircle(rx, ry, RADIUS)\n",
    "        stddraw.show(DT)\n",
    "\n",
    "#-----------------------------------------------------------------------"
   ]
  },
  {
   "cell_type": "code",
   "execution_count": null,
   "id": "1b5c4be1",
   "metadata": {},
   "outputs": [],
   "source": [
    "bouncingball()"
   ]
  },
  {
   "cell_type": "code",
   "execution_count": null,
   "id": "3663ac31",
   "metadata": {},
   "outputs": [],
   "source": []
  }
 ],
 "metadata": {
  "kernelspec": {
   "display_name": "Python 3 (ipykernel)",
   "language": "python",
   "name": "python3"
  },
  "language_info": {
   "codemirror_mode": {
    "name": "ipython",
    "version": 3
   },
   "file_extension": ".py",
   "mimetype": "text/x-python",
   "name": "python",
   "nbconvert_exporter": "python",
   "pygments_lexer": "ipython3",
   "version": "3.9.13"
  }
 },
 "nbformat": 4,
 "nbformat_minor": 5
}
