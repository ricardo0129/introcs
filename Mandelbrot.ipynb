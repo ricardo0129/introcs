{
 "cells": [
  {
   "cell_type": "code",
   "execution_count": null,
   "id": "68f3c3bb",
   "metadata": {},
   "outputs": [],
   "source": [
    "import sys\n",
    "import stddraw\n",
    "from color import Color\n",
    "from picture import Picture\n",
    "\n",
    "#-----------------------------------------------------------------------\n",
    "\n",
    "# Compute the Mandelbrot iteration sequence starting at z0, and \n",
    "# return the number of iterations for which the magnitude stays less\n",
    "# than 2, up to the limit.\n",
    "\n",
    "def mandel(z0, limit):\n",
    "    z = z0\n",
    "    for t in range(limit):\n",
    "        if abs(z) > 2.0:\n",
    "            return t\n",
    "        z = z * z + z0\n",
    "    return limit\n",
    "\n",
    "#-----------------------------------------------------------------------\n",
    "\n",
    "# Accept float command-line arguments xc, yc, and size that specify\n",
    "# the center and size of a square region of interest. Make a digital\n",
    "# image showing the result of sampling the Mandelbrot set in that\n",
    "# region at a 512*512 grid of equally spaced pixels. Color each pixel\n",
    "# with a grayscale value that is determined by counting the number of\n",
    "# iterations before the Mandelbrot sequence for the corresponding\n",
    "# complex number grows past 2.0, up to 255.\n",
    "\n",
    "def generateMandelbrot(n,xc,yc,size):\n",
    "    MAX = 255\n",
    "\n",
    "    pic = Picture(n, n)\n",
    "    for col in range(n):\n",
    "        for row in range(n):\n",
    "            x0 = xc - (size / 2) + (size * col / n)\n",
    "            y0 = yc - (size / 2) + (size * row / n)\n",
    "            z0 = complex(x0, y0)\n",
    "            gray = MAX - mandel(z0, MAX)\n",
    "            color = Color(gray, gray, gray)\n",
    "            pic.set(col, n-1-row, color)\n",
    "\n",
    "    stddraw.setCanvasSize(n, n)\n",
    "    stddraw.picture(pic)\n",
    "    stddraw.show()"
   ]
  },
  {
   "cell_type": "code",
   "execution_count": null,
   "id": "7c3c1eae",
   "metadata": {},
   "outputs": [],
   "source": [
    "generateMandelbrot(244,-0.5,0.2,2)"
   ]
  },
  {
   "cell_type": "code",
   "execution_count": null,
   "id": "72e7bb76",
   "metadata": {},
   "outputs": [],
   "source": []
  }
 ],
 "metadata": {
  "kernelspec": {
   "display_name": "Python 3 (ipykernel)",
   "language": "python",
   "name": "python3"
  },
  "language_info": {
   "codemirror_mode": {
    "name": "ipython",
    "version": 3
   },
   "file_extension": ".py",
   "mimetype": "text/x-python",
   "name": "python",
   "nbconvert_exporter": "python",
   "pygments_lexer": "ipython3",
   "version": "3.9.13"
  }
 },
 "nbformat": 4,
 "nbformat_minor": 5
}
