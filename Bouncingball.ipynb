{
 "cells": [
  {
   "cell_type": "code",
   "execution_count": 1,
   "id": "36c131e0",
   "metadata": {},
   "outputs": [],
   "source": [
    "import stddraw\n",
    "\n",
    "# Draw a bouncing ball to standard draw.\n",
    "\n",
    "def bouncingball():\n",
    "    RADIUS = .05\n",
    "    DT = 20.0\n",
    "\n",
    "    stddraw.setXscale(-1.0, 1.0)\n",
    "    stddraw.setYscale(-1.0, 1.0)\n",
    "\n",
    "    rx = .480\n",
    "    ry = .860\n",
    "    vx = .015\n",
    "    vy = .023\n",
    "\n",
    "    while True:\n",
    "        # Update ball position and draw it there.\n",
    "        if abs(rx + vx) + RADIUS > 1.0:\n",
    "            vx = -vx\n",
    "        if abs(ry + vy) + RADIUS > 1.0:\n",
    "            vy = -vy\n",
    "        rx = rx + vx\n",
    "        ry = ry + vy\n",
    "\n",
    "        stddraw.clear(stddraw.GRAY)\n",
    "        stddraw.filledCircle(rx, ry, RADIUS)\n",
    "        stddraw.show(DT)\n",
    "\n",
    "#-----------------------------------------------------------------------"
   ]
  },
  {
   "cell_type": "code",
   "execution_count": 2,
   "id": "1b5c4be1",
   "metadata": {},
   "outputs": [
    {
     "ename": "KeyboardInterrupt",
     "evalue": "",
     "output_type": "error",
     "traceback": [
      "\u001b[0;31m---------------------------------------------------------------------------\u001b[0m",
      "\u001b[0;31mKeyboardInterrupt\u001b[0m                         Traceback (most recent call last)",
      "Input \u001b[0;32mIn [2]\u001b[0m, in \u001b[0;36m<cell line: 1>\u001b[0;34m()\u001b[0m\n\u001b[0;32m----> 1\u001b[0m \u001b[43mbouncingball\u001b[49m\u001b[43m(\u001b[49m\u001b[43m)\u001b[49m\n",
      "Input \u001b[0;32mIn [1]\u001b[0m, in \u001b[0;36mbouncingball\u001b[0;34m()\u001b[0m\n\u001b[1;32m     26\u001b[0m stddraw\u001b[38;5;241m.\u001b[39mclear(stddraw\u001b[38;5;241m.\u001b[39mGRAY)\n\u001b[1;32m     27\u001b[0m stddraw\u001b[38;5;241m.\u001b[39mfilledCircle(rx, ry, RADIUS)\n\u001b[0;32m---> 28\u001b[0m \u001b[43mstddraw\u001b[49m\u001b[38;5;241;43m.\u001b[39;49m\u001b[43mshow\u001b[49m\u001b[43m(\u001b[49m\u001b[43mDT\u001b[49m\u001b[43m)\u001b[49m\n",
      "File \u001b[0;32m~/Desktop/cs_workshop/modified_files/stddraw.py:592\u001b[0m, in \u001b[0;36mshow\u001b[0;34m(msec)\u001b[0m\n\u001b[1;32m    590\u001b[0m sec \u001b[38;5;241m=\u001b[39m msec \u001b[38;5;241m/\u001b[39m \u001b[38;5;241m1000.0\u001b[39m\n\u001b[1;32m    591\u001b[0m \u001b[38;5;28;01mif\u001b[39;00m sec \u001b[38;5;241m<\u001b[39m QUANTUM:\n\u001b[0;32m--> 592\u001b[0m     \u001b[43mtime\u001b[49m\u001b[38;5;241;43m.\u001b[39;49m\u001b[43msleep\u001b[49m\u001b[43m(\u001b[49m\u001b[43msec\u001b[49m\u001b[43m)\u001b[49m\n\u001b[1;32m    593\u001b[0m     \u001b[38;5;28;01mreturn\u001b[39;00m\n\u001b[1;32m    594\u001b[0m secondsWaited \u001b[38;5;241m=\u001b[39m \u001b[38;5;241m0.0\u001b[39m\n",
      "\u001b[0;31mKeyboardInterrupt\u001b[0m: "
     ]
    }
   ],
   "source": [
    "bouncingball()"
   ]
  },
  {
   "cell_type": "code",
   "execution_count": null,
   "id": "3663ac31",
   "metadata": {},
   "outputs": [],
   "source": []
  }
 ],
 "metadata": {
  "kernelspec": {
   "display_name": "Python 3 (ipykernel)",
   "language": "python",
   "name": "python3"
  },
  "language_info": {
   "codemirror_mode": {
    "name": "ipython",
    "version": 3
   },
   "file_extension": ".py",
   "mimetype": "text/x-python",
   "name": "python",
   "nbconvert_exporter": "python",
   "pygments_lexer": "ipython3",
   "version": "3.9.13"
  }
 },
 "nbformat": 4,
 "nbformat_minor": 5
}
