{
 "cells": [
  {
   "cell_type": "code",
   "execution_count": null,
   "id": "b67dd6c5",
   "metadata": {},
   "outputs": [],
   "source": [
    "import math\n",
    "import stdio\n",
    "import stdarray\n",
    "import stdaudio\n",
    "\n",
    "# Read sound samples from standard input, and play the sound to\n",
    "# standard audio.\n",
    "def playthattune(f):\n",
    "    stdio.setFile(f)\n",
    "    SPS = 44100\n",
    "    CONCERT_A = 440.0\n",
    "    NOTES_ON_SCALE = 12.0\n",
    "\n",
    "    while not stdio.isEmpty():\n",
    "\n",
    "        pitch = stdio.readInt()\n",
    "        duration = stdio.readFloat()\n",
    "        hz = CONCERT_A * (2.0 ** (pitch / NOTES_ON_SCALE))\n",
    "        n = int(SPS * duration)\n",
    "        note = stdarray.create1D(n+1, 0.0)\n",
    "        for i in range(n+1):\n",
    "            note[i] = math.sin(2.0 * math.pi * i * hz / SPS)\n",
    "        stdaudio.playSamples(note)\n",
    "\n",
    "    stdaudio.wait()"
   ]
  },
  {
   "cell_type": "code",
   "execution_count": null,
   "id": "9400de69",
   "metadata": {},
   "outputs": [],
   "source": [
    "playthattune(\"./tunes/elise.txt\")\n",
    "#playthattune(\"./tunes/ascale.txt\")\n",
    "#playthattune(\"./tunes/entertainer.txt\")\n",
    "#playthattune(\"./tunes/firstcut.txt\")\n",
    "#playthattune(\"./tunes/freebird.txt\")\n",
    "#playthattune(\"./tunes/looney.txt\")\n",
    "#playthattune(\"./tunes/stairwaytoheaven.txt.txt\")\n",
    "#playthattune(\"./tunes/own.txt\")"
   ]
  },
  {
   "cell_type": "code",
   "execution_count": null,
   "id": "73fab259",
   "metadata": {},
   "outputs": [],
   "source": []
  }
 ],
 "metadata": {
  "kernelspec": {
   "display_name": "Python 3 (ipykernel)",
   "language": "python",
   "name": "python3"
  },
  "language_info": {
   "codemirror_mode": {
    "name": "ipython",
    "version": 3
   },
   "file_extension": ".py",
   "mimetype": "text/x-python",
   "name": "python",
   "nbconvert_exporter": "python",
   "pygments_lexer": "ipython3",
   "version": "3.9.13"
  }
 },
 "nbformat": 4,
 "nbformat_minor": 5
}
